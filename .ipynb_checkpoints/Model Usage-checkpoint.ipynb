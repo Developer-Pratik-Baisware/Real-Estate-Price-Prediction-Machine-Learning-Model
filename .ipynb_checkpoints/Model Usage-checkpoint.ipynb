{
 "cells": [
  {
   "cell_type": "code",
   "execution_count": 1,
   "id": "a8ee1d7b",
   "metadata": {},
   "outputs": [],
   "source": [
    "from joblib import dump, load\n",
    "import numpy as np\n",
    "model = load('Dragon.joblib')"
   ]
  },
  {
   "cell_type": "code",
   "execution_count": 5,
   "id": "fbde13ad",
   "metadata": {},
   "outputs": [
    {
     "data": {
      "text/plain": [
       "array([20.913])"
      ]
     },
     "execution_count": 5,
     "metadata": {},
     "output_type": "execute_result"
    }
   ],
   "source": [
    "features = np.array([[-0.26681502, -0.49582498, -0.43812716, -0.27039454, -0.13501415,\n",
    "       -0.30792835,  1.10936706,  0.18333051, -20.63856443, -22.60842162,\n",
    "        1.16581667,  0.22016881,  0.04987063]])\n",
    "model.predict(features)  # Twicking kar ke dekh sakte ho"
   ]
  },
  {
   "cell_type": "code",
   "execution_count": null,
   "id": "f6521c2d",
   "metadata": {},
   "outputs": [],
   "source": []
  }
 ],
 "metadata": {
  "kernelspec": {
   "display_name": "Python 3",
   "language": "python",
   "name": "python3"
  },
  "language_info": {
   "codemirror_mode": {
    "name": "ipython",
    "version": 3
   },
   "file_extension": ".py",
   "mimetype": "text/x-python",
   "name": "python",
   "nbconvert_exporter": "python",
   "pygments_lexer": "ipython3",
   "version": "3.9.5"
  }
 },
 "nbformat": 4,
 "nbformat_minor": 5
}
